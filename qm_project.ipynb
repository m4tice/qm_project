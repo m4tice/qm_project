{
  "nbformat": 4,
  "nbformat_minor": 0,
  "metadata": {
    "colab": {
      "name": "qm_project.ipynb",
      "provenance": [],
      "collapsed_sections": [
        "w-JT6QrnUlOk",
        "DwFXWIVSXFbx"
      ]
    },
    "kernelspec": {
      "name": "python3",
      "display_name": "Python 3"
    },
    "language_info": {
      "name": "python"
    }
  },
  "cells": [
    {
      "cell_type": "markdown",
      "metadata": {
        "id": "yB48MgByTguD"
      },
      "source": [
        "# **SETUP**\n",
        "**Connect to Google Drive**"
      ]
    },
    {
      "cell_type": "code",
      "metadata": {
        "colab": {
          "base_uri": "https://localhost:8080/"
        },
        "id": "YzhMARcQfHRi",
        "outputId": "194deb70-e699-414f-cc61-d3d310a53547"
      },
      "source": [
        "from google.colab import drive\n",
        "drive.mount('/content/drive')"
      ],
      "execution_count": 1,
      "outputs": [
        {
          "output_type": "stream",
          "text": [
            "Mounted at /content/drive\n"
          ],
          "name": "stdout"
        }
      ]
    },
    {
      "cell_type": "markdown",
      "metadata": {
        "id": "PiqgiwlaTx7U"
      },
      "source": [
        "**Path to .json files**"
      ]
    },
    {
      "cell_type": "code",
      "metadata": {
        "id": "JIH8z0cGhWq8"
      },
      "source": [
        "ap = '/content/drive/MyDrive/Python Projects/qm_project/anonymized_project.json'\n",
        "ref = '/content/drive/MyDrive/Python Projects/qm_project/references.json'"
      ],
      "execution_count": 2,
      "outputs": []
    },
    {
      "cell_type": "markdown",
      "metadata": {
        "id": "1IsMlJZ2T4pd"
      },
      "source": [
        "**Importation**"
      ]
    },
    {
      "cell_type": "code",
      "metadata": {
        "id": "PpkwmUcJki_Y"
      },
      "source": [
        "import pandas as pd\n",
        "import numpy as np\n",
        "import matplotlib.pyplot as plt"
      ],
      "execution_count": 3,
      "outputs": []
    },
    {
      "cell_type": "markdown",
      "metadata": {
        "id": "8mzW9W8-UeWE"
      },
      "source": [
        "**Initial functions**"
      ]
    },
    {
      "cell_type": "code",
      "metadata": {
        "id": "jAJQFxYohnit"
      },
      "source": [
        "def get_result_keys(df):\n",
        "    \"\"\"\n",
        "    Get dataframe and result_keys\n",
        "    :param df: input dataframe\n",
        "    :return: dataframe and result_keys\n",
        "    \"\"\"\n",
        "    ap_results = df.iloc[0][0]['results']\n",
        "    result_keys = list(ap_results.keys())\n",
        "    return ap_results, result_keys\n",
        "\n",
        "\n",
        "def get_img_keys(df):\n",
        "    \"\"\"\n",
        "    Get dataframe and result_keys\n",
        "    :param df: input dataframe\n",
        "    :return: dataframe and result_keys\n",
        "    \"\"\"\n",
        "    ref_keys = df.keys()\n",
        "    return ref_df, ref_keys\n",
        "\n",
        "\n",
        "def auto_label(rects, values, ax):\n",
        "    \"\"\"\n",
        "    Attach a text label above each bar displaying its height\n",
        "    \"\"\"\n",
        "    for rect, item in zip(rects, values):\n",
        "        height = rect.get_height()\n",
        "        ax.text(rect.get_x() + rect.get_width()/2., height,\n",
        "                '%0.2f' % item,\n",
        "                ha='center', va='bottom')"
      ],
      "execution_count": 4,
      "outputs": []
    },
    {
      "cell_type": "markdown",
      "metadata": {
        "id": "ScNLPb6cM7gM"
      },
      "source": [
        "**Load data**"
      ]
    },
    {
      "cell_type": "code",
      "metadata": {
        "id": "1dZP2h7eVEq0"
      },
      "source": [
        "ap_df = pd.read_json(ap)\n",
        "ref_df = pd.read_json(ref)\n",
        "\n",
        "ap_results, result_keys = get_result_keys(ap_df)\n",
        "ref_df, ref_keys = get_img_keys(ref_df)"
      ],
      "execution_count": 7,
      "outputs": []
    },
    {
      "cell_type": "markdown",
      "metadata": {
        "id": "w-JT6QrnUlOk"
      },
      "source": [
        "# **Task 1**\n",
        "Gather insights about the annotators  \n"
      ]
    },
    {
      "cell_type": "markdown",
      "metadata": {
        "id": "HAlSKsz6X9y0"
      },
      "source": [
        "**a. How many annotators did contribute to the dataset?**"
      ]
    },
    {
      "cell_type": "code",
      "metadata": {
        "id": "YI5bAZdhksRD",
        "colab": {
          "base_uri": "https://localhost:8080/"
        },
        "outputId": "7ecbd6f3-5ae9-4fc7-b77e-db8989f80b72"
      },
      "source": [
        "export_csv = False\n",
        "\n",
        "annotators = []\n",
        "for result_key in result_keys:\n",
        "    result_amount = len(ap_results[result_key]['results'])\n",
        "    vendor_user_ids = [ap_results[result_key]['results'][i]['user']['vendor_user_id'] for i in range(result_amount)]\n",
        "\n",
        "    # - Add data to list\n",
        "    annotators.extend(vendor_user_ids)\n",
        "\n",
        "annotators = sorted(set(annotators))\n",
        "annotators_df = pd.DataFrame({'annotators': annotators})\n",
        "\n",
        "# Export data to csv file\n",
        "if export_csv:\n",
        "    annotators_df.to_csv(\"annotators.csv\")\n",
        "\n",
        "print(annotators_df)"
      ],
      "execution_count": 8,
      "outputs": [
        {
          "output_type": "stream",
          "text": [
            "      annotators\n",
            "0   annotator_01\n",
            "1   annotator_02\n",
            "2   annotator_03\n",
            "3   annotator_04\n",
            "4   annotator_05\n",
            "5   annotator_06\n",
            "6   annotator_07\n",
            "7   annotator_08\n",
            "8   annotator_09\n",
            "9   annotator_10\n",
            "10  annotator_11\n",
            "11  annotator_12\n",
            "12  annotator_13\n",
            "13  annotator_14\n",
            "14  annotator_15\n",
            "15  annotator_16\n",
            "16  annotator_17\n",
            "17  annotator_18\n",
            "18  annotator_19\n",
            "19  annotator_20\n",
            "20  annotator_21\n",
            "21  annotator_22\n"
          ],
          "name": "stdout"
        }
      ]
    },
    {
      "cell_type": "markdown",
      "metadata": {
        "id": "N2cHjal3WVsT"
      },
      "source": [
        "**b. What are the average, min and max annotation times (durations)? Feel free to add visual representations here such as graphs if you like.**"
      ]
    },
    {
      "cell_type": "code",
      "metadata": {
        "colab": {
          "base_uri": "https://localhost:8080/",
          "height": 0
        },
        "id": "5_IkohcZQlYl",
        "outputId": "d70031ae-bbdd-4ce8-b3ae-137e513c22ed"
      },
      "source": [
        "fs = 15\n",
        "\n",
        "durations = []\n",
        "for result_key in result_keys:\n",
        "    result_amount = len(ap_results[result_key]['results'])\n",
        "    duration = [ap_results[result_key]['results'][i]['task_output']['duration_ms'] for i in range(result_amount)]\n",
        "\n",
        "    # - Add data to list\n",
        "    durations.extend(duration)\n",
        "\n",
        "min_duration = min(durations)\n",
        "max_duration = max(durations)\n",
        "print(\"Max duration: {} [ms]\\nMin duration: {} [ms]\".format(max_duration, min_duration))\n",
        "\n",
        "\n",
        "# Histogram of annotation time\n",
        "fig1, ax1 = plt.subplots()\n",
        "ax1.hist(durations, bins=2000)\n",
        "ax1.set_title(\"Histogram of annotation time\", fontsize=fs)\n",
        "ax1.set_xlabel(\"Annotation times [ms]\", fontsize=fs)\n",
        "ax1.set_ylabel(\"[count]\", fontsize=fs)\n",
        "ax1.grid(True)\n",
        "\n",
        "\n",
        "# Scatter plot of annotation time\n",
        "xs = np.arange(0, len(durations))\n",
        "fig2, ax2 = plt.subplots()\n",
        "ax2.scatter(xs, durations)\n",
        "ax2.set_title(\"Scatter plot of annotation time\", fontsize=fs)\n",
        "ax2.set_xlabel(\"Samples\", fontsize=fs)\n",
        "ax2.set_ylabel(\"Duration time [ms]\", fontsize=fs)\n",
        "ax2.grid(True)"
      ],
      "execution_count": 9,
      "outputs": [
        {
          "output_type": "stream",
          "text": [
            "Max duration: 42398 [ms]\n",
            "Min duration: -99999 [ms]\n"
          ],
          "name": "stdout"
        },
        {
          "output_type": "display_data",
          "data": {
            "image/png": "[encoded data removed]",
            "text/plain": [
              "<Figure size 432x288 with 1 Axes>"
            ]
          },
          "metadata": {
            "tags": [],
            "needs_background": "light"
          }
        },
        {
          "output_type": "display_data",
          "data": {
            "image/png": "[encoded data removed]",
            "text/plain": [
              "<Figure size 432x288 with 1 Axes>"
            ]
          },
          "metadata": {
            "tags": [],
            "needs_background": "light"
          }
        }
      ]
    },
    {
      "cell_type": "markdown",
      "metadata": {
        "id": "QKS1ruk8Wodr"
      },
      "source": [
        "**c. Did all annotators produce the same amount of results, or are there differences?**"
      ]
    },
    {
      "cell_type": "code",
      "metadata": {
        "colab": {
          "base_uri": "https://localhost:8080/",
          "height": 0
        },
        "id": "MpvxsAi4mtjc",
        "outputId": "484c8a1d-b50b-4b96-92f6-2f66d56ee3e5"
      },
      "source": [
        "export_csv = False\n",
        "fs = 15\n",
        "\n",
        "# 1c: Did all annotators produce the same amount of results, or are there differences?\n",
        "annotators_list = []\n",
        "for result_key in result_keys:\n",
        "    result_amount = len(ap_results[result_key]['results'])\n",
        "    vendor_user_id = [ap_results[result_key]['results'][i]['user']['vendor_user_id'] for i in range(result_amount)]\n",
        "\n",
        "    # - Add data to list\n",
        "    annotators_list.extend(vendor_user_id)\n",
        "\n",
        "# Count the occurrences of annotators\n",
        "annotators, annotator_count = np.unique(np.array(annotators_list), return_counts=True)\n",
        "\n",
        "# Store data in Pandas DataFrame\n",
        "annotator_result_count_df = pd.DataFrame({\"annotators\": annotators, \"result_count\": annotator_count})\n",
        "\n",
        "# Visualization\n",
        "ax = annotator_result_count_df['result_count'].plot(kind='bar')\n",
        "ax.set_xticklabels(annotator_result_count_df['annotators'])\n",
        "ax.grid(True)\n",
        "ax.set_title(\"Users result counts\", fontsize=fs)\n",
        "ax.set_xlabel(\"Annotators\", fontsize=fs)\n",
        "ax.set_ylabel(\"[count]\", fontsize=fs)\n",
        "\n",
        "# Export data to csv file\n",
        "if export_csv:\n",
        "    annotator_result_count_df.to_csv(\"annotator_result_count.csv\")\n",
        "\n",
        "print(annotator_result_count_df)"
      ],
      "execution_count": 10,
      "outputs": [
        {
          "output_type": "stream",
          "text": [
            "      annotators  result_count\n",
            "0   annotator_01          1280\n",
            "1   annotator_02          7596\n",
            "2   annotator_03           630\n",
            "3   annotator_04          6421\n",
            "4   annotator_05          3475\n",
            "5   annotator_06          5337\n",
            "6   annotator_07          2175\n",
            "7   annotator_08          6537\n",
            "8   annotator_09          4860\n",
            "9   annotator_10           315\n",
            "10  annotator_11          6436\n",
            "11  annotator_12          6210\n",
            "12  annotator_13          7078\n",
            "13  annotator_14          1725\n",
            "14  annotator_15          6088\n",
            "15  annotator_16          5061\n",
            "16  annotator_17          3485\n",
            "17  annotator_18          5170\n",
            "18  annotator_19           170\n",
            "19  annotator_20          6126\n",
            "20  annotator_21          2950\n",
            "21  annotator_22          1745\n"
          ],
          "name": "stdout"
        },
        {
          "output_type": "display_data",
          "data": {
            "image/png": "[encoded data removed]",
            "text/plain": [
              "<Figure size 432x288 with 1 Axes>"
            ]
          },
          "metadata": {
            "tags": [],
            "needs_background": "light"
          }
        }
      ]
    },
    {
      "cell_type": "markdown",
      "metadata": {
        "id": "40-oQKCAW_b1"
      },
      "source": [
        "**d. Are there questions for which annotators highly disagree?**"
      ]
    },
    {
      "cell_type": "code",
      "metadata": {
        "id": "ERPbGEQkuGwv",
        "colab": {
          "base_uri": "https://localhost:8080/"
        },
        "outputId": "865e85ad-0274-4827-e37f-2d9cdd0dc010"
      },
      "source": [
        "export_csv = False\n",
        "\n",
        "# 1d: Are there questions for which annotators highly disagree?\n",
        "disagree_limit = 2\n",
        "highly_disagree_questions = []\n",
        "\n",
        "for result_key in result_keys:\n",
        "    result_amount = len(ap_results[result_key]['results'])\n",
        "    answers = [ap_results[result_key]['results'][i]['task_output']['answer'] for i in range(result_amount)]\n",
        "    solves = [ap_results[result_key]['results'][i]['task_output']['cant_solve'] for i in range(result_amount)]\n",
        "    corrupts = [ap_results[result_key]['results'][i]['task_output']['corrupt_data'] for i in range(result_amount)]\n",
        "\n",
        "    cant_solve = solves.count(True)\n",
        "    corrupt_amount = corrupts.count(True)\n",
        "    ans_yes = answers.count('yes')\n",
        "    ans_no = answers.count('no')\n",
        "\n",
        "    cond = ans_yes > disagree_limit and ans_no > disagree_limit\n",
        "\n",
        "    # - Add data to list\n",
        "    if cond:\n",
        "        highly_disagree_questions.append([result_key, ans_yes, ans_no, cant_solve, corrupt_amount])\n",
        "\n",
        "highly_disagree_questions = np.array(highly_disagree_questions)\n",
        "highly_disagree_questions_df = pd.DataFrame({\"result_key\": highly_disagree_questions[:, 0],\n",
        "                                             \"yes\": highly_disagree_questions[:, 1],\n",
        "                                             \"no\": highly_disagree_questions[:, 2],\n",
        "                                             \"cant_solve\": highly_disagree_questions[:, 3],\n",
        "                                             \"corrupt_data\": highly_disagree_questions[:, 4]})\n",
        "\n",
        "# Export data to csv file\n",
        "if export_csv:\n",
        "    highly_disagree_questions_df.to_csv(\"highly_disagree_questions.csv\")\n",
        "\n",
        "print(highly_disagree_questions_df)"
      ],
      "execution_count": 11,
      "outputs": [
        {
          "output_type": "stream",
          "text": [
            "                               result_key yes no cant_solve corrupt_data\n",
            "0    06fad124-9488-4ec7-b11d-8028391c8740   7  3          0            0\n",
            "1    d547c179-6637-4080-b2b7-53dafd936ed0   6  4          0            0\n",
            "2    09e6ec23-74d9-4176-aceb-f7096e2e9284   4  6          0            0\n",
            "3    24fbda6e-d09c-44f6-92f0-c858334abe1a   6  4          0            0\n",
            "4    2a89834d-362e-472d-a274-bcb7ad8da9cb   4  6          0            0\n",
            "..                                    ...  .. ..        ...          ...\n",
            "379  a2690dcf-8a7c-4a87-9234-b69046b1dd32   5  5          0            0\n",
            "380  dfbdb4e9-fbf9-4d35-885e-45df92356ee1   7  3          0            0\n",
            "381  cc46b5b5-3132-4719-8e65-801a561a297e   4  6          0            0\n",
            "382  57fd88ff-e6b3-4b49-863c-e30fadc75475   5  5          0            0\n",
            "383  b5c37a5f-250d-47a9-9931-795d8e3c9856   5  5          0            0\n",
            "\n",
            "[384 rows x 5 columns]\n"
          ],
          "name": "stdout"
        }
      ]
    },
    {
      "cell_type": "markdown",
      "metadata": {
        "id": "DwFXWIVSXFbx"
      },
      "source": [
        "# **Task 2**\n",
        "Besides picking yes or no the annotators had the chance to tell if the data were corrupted or if they for any reason were not able to solve the task. These are fields 'cant_solve' and 'corrupt_data' given in the task_output."
      ]
    },
    {
      "cell_type": "markdown",
      "metadata": {
        "id": "Bs0A6QV4YEV3"
      },
      "source": [
        "**a. How often does each occur in the project and do you see a trend within the annotators that made use of these options?**"
      ]
    },
    {
      "cell_type": "code",
      "metadata": {
        "colab": {
          "base_uri": "https://localhost:8080/",
          "height": 0
        },
        "id": "iON_A-I8AMWI",
        "outputId": "db0dfadf-bafe-45a7-fd7a-1794ecfd541d"
      },
      "source": [
        "export_csv = False\n",
        "fs = 15\n",
        "\n",
        "# 2a: How often does each occur in the project and\n",
        "# do you see a trend within the annotators that made use of these options?\n",
        "\n",
        "\n",
        "def unsolved_check(result_key, index):\n",
        "    \"\"\"\n",
        "    :param result_key: key of anonymized_project result\n",
        "    :param index: index of items in result key\n",
        "    :return: boolean value based on whether the answer is cant_solve or the data is corrupted\n",
        "    \"\"\"\n",
        "    cant_solve_cond = ap_results[result_key]['results'][index]['task_output']['cant_solve']\n",
        "    corrupt_data_cond = ap_results[result_key]['results'][index]['task_output']['corrupt_data']\n",
        "    return cant_solve_cond or corrupt_data_cond\n",
        "\n",
        "\n",
        "def get_data(result_key, index):\n",
        "    \"\"\"\n",
        "    Get the corresponded data based on result_key and index\n",
        "    :param result_key: key of anonymized_project result\n",
        "    :param index: index of items in result key\n",
        "    :return: a list of data\n",
        "    \"\"\"\n",
        "    vendor_user_id = ap_results[result_key]['results'][index]['user']['vendor_user_id']\n",
        "    cant_solve = ap_results[result_key]['results'][index]['task_output']['cant_solve']\n",
        "    corrupt_data = ap_results[result_key]['results'][index]['task_output']['corrupt_data']\n",
        "    return [vendor_user_id, int(cant_solve), int(corrupt_data)]\n",
        "\n",
        "\n",
        "# Gather rows of data with users with 'cant_solve' and 'corrupt_data'\n",
        "unsolved_data = []\n",
        "\n",
        "for result_key in result_keys:\n",
        "    result_amount = len(ap_results[result_key]['results'])\n",
        "    unsolved = [get_data(result_key, i) for i in range(result_amount) if unsolved_check(result_key, i)]\n",
        "\n",
        "    # - Add data to list\n",
        "    unsolved_data.extend(unsolved)\n",
        "\n",
        "\n",
        "# Get unique user ids\n",
        "unsolved_user = sorted(set(np.array(unsolved_data)[:, 0]))\n",
        "\n",
        "\n",
        "# Get the count of 'cant_solve' and 'corrupt_data' for each user and store them in a list\n",
        "grouped_unsolved_data = []\n",
        "\n",
        "for vendor_user_id in unsolved_user:\n",
        "    # - Retrieve the answers of a specific user\n",
        "    user_result = np.array([item for item in unsolved_data if item[0] == vendor_user_id])\n",
        "\n",
        "    # - Count the 'cant_solve' and 'corrupt_data' occurrences\n",
        "    cant_solve_count = np.sum(user_result[:, 1] == '1')\n",
        "    corrupt_data_count = np.sum(user_result[:, 2] == '1')\n",
        "\n",
        "    # - Add data to list\n",
        "    grouped_unsolved_data.append([vendor_user_id, cant_solve_count, corrupt_data_count])\n",
        "\n",
        "\n",
        "# Store data in Pandas dataframe\n",
        "grouped_unsolved_data_df = pd.DataFrame({'vendor_user_id': np.array(grouped_unsolved_data)[:, 0],\n",
        "                                         'cant_solve': np.array(grouped_unsolved_data)[:, 1],\n",
        "                                         'corrupt_data': np.array(grouped_unsolved_data)[:, 2]})\n",
        "\n",
        "# Export data to csv file\n",
        "if export_csv:\n",
        "    grouped_unsolved_data_df.to_csv(\"grouped_unsolved_data.csv\")\n",
        "\n",
        "# Visualization\n",
        "display_df = grouped_unsolved_data_df[['cant_solve', 'corrupt_data']].astype(float)\n",
        "\n",
        "ax = display_df.plot(kind='bar', stacked=True)\n",
        "ax.set_xticklabels(grouped_unsolved_data_df['vendor_user_id'])\n",
        "ax.set_title(\"'cant_solve' and 'corrupt_data' occurrences\", fontsize=fs)\n",
        "ax.set_xlabel(\"vendor_user_id\")\n",
        "ax.set_ylabel(\"[count]\", fontsize=fs)\n",
        "ax.grid(True)\n"
      ],
      "execution_count": 12,
      "outputs": [
        {
          "output_type": "display_data",
          "data": {
            "image/png": "[encoded data removed]",
            "text/plain": [
              "<Figure size 432x288 with 1 Axes>"
            ]
          },
          "metadata": {
            "tags": [],
            "needs_background": "light"
          }
        }
      ]
    },
    {
      "cell_type": "markdown",
      "metadata": {
        "id": "VC27egcbXwmz"
      },
      "source": [
        "# **Task 3**\n",
        "Is the reference set balanced? Please demonstrate via numbers and visualizations."
      ]
    },
    {
      "cell_type": "code",
      "metadata": {
        "colab": {
          "base_uri": "https://localhost:8080/",
          "height": 634
        },
        "id": "P1YMOOnEsFhU",
        "outputId": "cdc9771e-97e7-4877-97f3-cfdc79cf1ba8"
      },
      "source": [
        "fs = 12\n",
        "\n",
        "\n",
        "# Get data\n",
        "ref_ans = [[key, ref_df[key]['is_bicycle']] for key in ref_keys]\n",
        "\n",
        "# Get unique values and counts\n",
        "answers, answer_count = np.unique(np.array(ref_ans)[:, 1], return_counts=True)\n",
        "\n",
        "\n",
        "# Numerics visualization\n",
        "false_count, true_count = answer_count  # Count number of true and false values\n",
        "total = true_count + false_count        # Count the total values\n",
        "diff = abs(true_count - false_count)    # Count the difference between two types\n",
        "\n",
        "# - Percentage values\n",
        "true_percent = round(true_count / total * 100, 2)\n",
        "false_percent = round(false_count / total * 100, 2)\n",
        "diff_percent = round(diff / total * 100, 2)\n",
        "\n",
        "print(\"True samples                 : {} in {} ({}%)\".format(true_count, total, true_percent))\n",
        "print(\"False samples                : {} in {} ({}%)\".format(false_count, total, false_percent))\n",
        "print(\"Difference between two counts: {}           ({}%)\".format(diff, diff_percent))\n",
        "\n",
        "\n",
        "# Visualization\n",
        "# - Display in sample counts\n",
        "fig1, ax1 = plt.subplots()\n",
        "rects1 = ax1.bar([\"True\", \"False\"], [true_count, false_count], width=0.35)\n",
        "ax1.set_title(\"Distribution of reference set\", fontsize=fs)\n",
        "ax1.set_xlabel(\"Type\", fontsize=fs)\n",
        "ax1.set_ylabel(\"[count]\", fontsize=fs)\n",
        "ax1.grid(True)\n",
        "auto_label(rects1, [true_count, false_count], ax1)\n",
        "\n",
        "# - Display in percentage\n",
        "fig2, ax2 = plt.subplots()\n",
        "rects2 = ax2.bar([\"True\", \"False\"], [true_percent, false_percent], width=0.35)\n",
        "ax2.set_title(\"Distribution of reference set in percentage\", fontsize=fs)\n",
        "ax2.set_xlabel(\"Type\", fontsize=fs)\n",
        "ax2.set_ylabel(\"[%]\", fontsize=fs)\n",
        "ax2.grid(True)\n",
        "auto_label(rects2, [true_percent, false_percent], ax2)"
      ],
      "execution_count": 13,
      "outputs": [
        {
          "output_type": "stream",
          "text": [
            "True samples                 : 4586 in 9087 (50.47%)\n",
            "False samples                : 4501 in 9087 (49.53%)\n",
            "Difference between two counts: 85           (0.94%)\n"
          ],
          "name": "stdout"
        },
        {
          "output_type": "display_data",
          "data": {
            "image/png": "[encoded data removed]",
            "text/plain": [
              "<Figure size 432x288 with 1 Axes>"
            ]
          },
          "metadata": {
            "tags": [],
            "needs_background": "light"
          }
        },
        {
          "output_type": "display_data",
          "data": {
            "image/png": "[encoded data removed]",
            "text/plain": [
              "<Figure size 432x288 with 1 Axes>"
            ]
          },
          "metadata": {
            "tags": [],
            "needs_background": "light"
          }
        }
      ]
    },
    {
      "cell_type": "markdown",
      "metadata": {
        "id": "e43b5iowYZPw"
      },
      "source": [
        "# **Task 4**\n",
        "Using the reference set, can you identify good and bad annotators? Please use statistics and visualizations. Feel free to get creative."
      ]
    },
    {
      "cell_type": "markdown",
      "metadata": {
        "id": "WAG5HCpFYeSD"
      },
      "source": [
        "**Create data**"
      ]
    },
    {
      "cell_type": "code",
      "metadata": {
        "colab": {
          "base_uri": "https://localhost:8080/"
        },
        "id": "Mk_MdtchYi3o",
        "outputId": "f7229e83-a3a5-4a65-eda8-610ac83af4b7"
      },
      "source": [
        "export_csv = True\n",
        "\n",
        "\n",
        "# Get annotators\n",
        "annotators = []\n",
        "for result_key in result_keys:\n",
        "    result_amount = len(ap_results[result_key]['results'])\n",
        "    vendor_user_ids = [ap_results[result_key]['results'][i]['user']['vendor_user_id'] for i in range(result_amount)]\n",
        "    annotators.extend(vendor_user_ids)\n",
        "\n",
        "annotators = sorted(set(annotators))\n",
        "\n",
        "\n",
        "# Get reference set\n",
        "ref_ans = [[key, ref_df[key]['is_bicycle']] for key in ref_keys]\n",
        "\n",
        "\n",
        "# Get annotators' answers\n",
        "annotators_ans = []\n",
        "for result_key in result_keys:\n",
        "    result_amount = len(ap_results[result_key]['results'])\n",
        "\n",
        "    # annotators\n",
        "    vendor_user_ids = [ap_results[result_key]['results'][i]['user']['vendor_user_id'] for i in range(result_amount)]\n",
        "\n",
        "    # annotators' answers\n",
        "    answers = [ap_results[result_key]['results'][i]['task_output']['answer'] for i in range(result_amount)]\n",
        "\n",
        "    # image name\n",
        "    image_url = ap_results[result_key]['results'][0]['task_input']['image_url']\n",
        "    image_name = image_url.split(\"/\")[-1]\n",
        "    image_name = image_name.split(\".\")[0]\n",
        "\n",
        "    for idx, ans in zip(vendor_user_ids, answers):\n",
        "        annotators_ans.append([idx, image_name, ans])\n",
        "\n",
        "\n",
        "# Group the annotators' answer by annotators\n",
        "annotators_packages = []\n",
        "for an_id in annotators:\n",
        "    temp = [[idx, im_name, ans] for idx, im_name, ans in annotators_ans if an_id == idx]\n",
        "    annotators_packages.append(temp)\n",
        "\n",
        "\n",
        "# Count the correct, incorrect and null answers\n",
        "annotators_quality = []\n",
        "for annotator_package in annotators_packages:\n",
        "    # - Initialization of counters\n",
        "    correct, incorrect, null = 0, 0, 0\n",
        "\n",
        "    # - Current annotator\n",
        "    annotator_id = annotator_package[0][0]\n",
        "\n",
        "    # - Looping through each package and count the correct, incorrect and null answer\n",
        "    for user_id, im_name, user_an in annotator_package:\n",
        "        # -- Get row index of reference answer\n",
        "        idx = [i for i, ref in enumerate(ref_ans) if im_name in ref][0]\n",
        "\n",
        "        # -- Conditions\n",
        "        correct_cond1 = user_an == 'yes' and ref_ans[idx][1]\n",
        "        correct_cond2 = user_an == 'no' and not ref_ans[idx][1]\n",
        "        null_cond = user_an == \"\"\n",
        "\n",
        "        # -- Check condition and count\n",
        "        if correct_cond1 or correct_cond2:\n",
        "            correct += 1\n",
        "        elif null_cond:\n",
        "            null += 1\n",
        "        else:\n",
        "            incorrect += 1\n",
        "\n",
        "    total = correct + incorrect + null\n",
        "\n",
        "    # - Add data to list\n",
        "    annotators_quality.append([annotator_id.split(\"_\")[1], correct, incorrect, null, total])\n",
        "\n",
        "\n",
        "# Store data in Pandas dataframe\n",
        "annotators_quality = np.array(annotators_quality)\n",
        "label = annotators_quality[:, 0]\n",
        "correct = [int(item) for item in annotators_quality[:, 1]]\n",
        "incorrect = [int(item) for item in annotators_quality[:, 2]]\n",
        "null = [int(item) for item in annotators_quality[:, 3]]\n",
        "total = [int(item) for item in annotators_quality[:, 4]]\n",
        "\n",
        "annotators_quality_df = pd.DataFrame({'id': label,\n",
        "                                      'correct': correct,\n",
        "                                      'incorrect': incorrect,\n",
        "                                      'null': null,\n",
        "                                      'total': total})\n",
        "\n",
        "# Export data to csv file\n",
        "if export_csv:\n",
        "    annotators_quality_df.to_csv(\"annotators_quality_assessment.csv\", index=False)\n",
        "\n",
        "\n",
        "print(annotators_quality_df)"
      ],
      "execution_count": 14,
      "outputs": [
        {
          "output_type": "stream",
          "text": [
            "    id  correct  incorrect  null  total\n",
            "0   01     1214         66     0   1280\n",
            "1   02     7101        493     2   7596\n",
            "2   03      585         45     0    630\n",
            "3   04     5960        457     4   6421\n",
            "4   05     3256        219     0   3475\n",
            "5   06     4945        391     1   5337\n",
            "6   07     1990        184     1   2175\n",
            "7   08     5878        656     3   6537\n",
            "8   09     4536        324     0   4860\n",
            "9   10      280         35     0    315\n",
            "10  11     6026        409     1   6436\n",
            "11  12     5774        436     0   6210\n",
            "12  13     6702        376     0   7078\n",
            "13  14     1633         91     1   1725\n",
            "14  15     5774        314     0   6088\n",
            "15  16     4769        292     0   5061\n",
            "16  17     3283        202     0   3485\n",
            "17  18     4841        326     3   5170\n",
            "18  19      161          9     0    170\n",
            "19  20     5809        316     1   6126\n",
            "20  21     2773        177     0   2950\n",
            "21  22     1644         97     4   1745\n"
          ],
          "name": "stdout"
        }
      ]
    },
    {
      "cell_type": "markdown",
      "metadata": {
        "id": "6XeH5GwWY6Lf"
      },
      "source": [
        "**Visualization**"
      ]
    },
    {
      "cell_type": "code",
      "metadata": {
        "colab": {
          "base_uri": "https://localhost:8080/",
          "height": 611
        },
        "id": "Vkp9l5JNY5c5",
        "outputId": "e0bb52c2-a0d7-4f88-cd19-693ed91b9619"
      },
      "source": [
        "width = 0.8\n",
        "fs = 15\n",
        "\n",
        "\n",
        "def percent_cal(item):\n",
        "    \"\"\"\n",
        "    Function for calculating the percentage values\n",
        "    :param item:\n",
        "    :return: percentage values\n",
        "    \"\"\"\n",
        "    idx, correct, incorrect, null, total = item\n",
        "    correct_percent = round(correct / total * 100, 2)\n",
        "    incorrect_percent = round(incorrect / total * 100, 2)\n",
        "    null_percent = round(null / total * 100, 2)\n",
        "\n",
        "    return [idx, correct_percent, incorrect_percent, null_percent]\n",
        "\n",
        "\n",
        "# Load data\n",
        "annotators_quality_df = pd.read_csv(\"annotators_quality_assessment.csv\")\n",
        "annotators_quality = annotators_quality_df.values.tolist()\n",
        "\n",
        "\n",
        "# Amount display\n",
        "labels = annotators_quality_df['id']\n",
        "display_df = annotators_quality_df[['correct', 'incorrect', 'null']]\n",
        "ax1 = display_df.plot(kind='bar', stacked=True, use_index=False)\n",
        "ax1.set_xticklabels(labels)\n",
        "ax1.grid(True)\n",
        "ax1.set_title(\"Annotators assessment\", fontsize=fs)\n",
        "ax1.set_xlabel(\"Annotators\", fontsize=fs)\n",
        "ax1.set_ylabel(\"[count]\", fontsize=fs)\n",
        "ax1.legend(prop={'size': fs})\n",
        "\n",
        "\n",
        "# Percentage display\n",
        "percent_data = np.array([percent_cal(item) for item in annotators_quality])\n",
        "correct_p = [item for item in percent_data[:, 1]]\n",
        "incorrect_p = [item for item in percent_data[:, 2]]\n",
        "null_p = [item for item in percent_data[:, 3]]\n",
        "\n",
        "df = pd.DataFrame({'correct %': correct_p, 'incorrect %': incorrect_p, 'null %': null_p})\n",
        "ax2 = df.plot(kind='bar', stacked=True, use_index=False)\n",
        "ax2.set_xticklabels(labels)\n",
        "ax2.grid(True)\n",
        "ax2.set_title(\"Annotators assessment in percentage\", fontsize=fs)\n",
        "ax2.set_xlabel(\"Annotators\", fontsize=fs)\n",
        "ax2.set_ylabel(\"[%]\", fontsize=fs)\n",
        "ax2.legend(prop={'size': fs})"
      ],
      "execution_count": 15,
      "outputs": [
        {
          "output_type": "execute_result",
          "data": {
            "text/plain": [
              "<matplotlib.legend.Legend at 0x7f32c5e2bfd0>"
            ]
          },
          "metadata": {
            "tags": []
          },
          "execution_count": 15
        },
        {
          "output_type": "display_data",
          "data": {
            "image/png": "[encoded data removed]",
            "text/plain": [
              "<Figure size 432x288 with 1 Axes>"
            ]
          },
          "metadata": {
            "tags": [],
            "needs_background": "light"
          }
        },
        {
          "output_type": "display_data",
          "data": {
            "image/png": "[encoded data removed]",
            "text/plain": [
              "<Figure size 432x288 with 1 Axes>"
            ]
          },
          "metadata": {
            "tags": [],
            "needs_background": "light"
          }
        }
      ]
    }
  ]
}